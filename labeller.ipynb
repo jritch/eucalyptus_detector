{
 "cells": [
  {
   "cell_type": "code",
   "execution_count": 2,
   "id": "105e1f0c",
   "metadata": {},
   "outputs": [],
   "source": [
    "# From documentation at https://github.com/dennisbakhuis/pigeonXT\n",
    "import pandas as pd\n",
    "import numpy as np\n",
    "\n",
    "from pathlib import Path\n",
    "from pigeonXT import annotate\n",
    "from IPython.display import display, Image\n",
    "\n",
    "labels = [\"background\",'eucalyptus',\"tree\"]"
   ]
  },
  {
   "cell_type": "code",
   "execution_count": 17,
   "id": "434fe1bc",
   "metadata": {},
   "outputs": [],
   "source": [
    "#pd.read_csv(\"classifier_output.csv\",header=None).rename(columns={0:\"filename\",1:\"predicted\"})[\"filename\"].to_csv(\"filenames.csv\")"
   ]
  },
  {
   "cell_type": "code",
   "execution_count": 11,
   "id": "b3ae5c94",
   "metadata": {},
   "outputs": [],
   "source": [
    "def labelPortion(\n",
    "    inputFile, \n",
    "    labels = ['yes', 'no'], \n",
    "    outputFile='output.csv', \n",
    "    portionSize=10,\n",
    "    textColumn='filename',\n",
    "):\n",
    "   \n",
    "    out = Path(outputFile)\n",
    "    if out.exists():\n",
    "        outdf = pd.read_csv(out)\n",
    "        currentId = outdf.index.max() + 1\n",
    "    else:\n",
    "        currentId = 0\n",
    "\n",
    "    indf = pd.read_csv(inputFile)\n",
    "    examplesInFile = len(indf)\n",
    "    indf = indf.loc[currentId:currentId + portionSize - 1]\n",
    "    actualPortionSize = len(indf)\n",
    "    print(f'{currentId + 1} - {currentId + actualPortionSize} of {examplesInFile}')\n",
    "    sentences = indf[textColumn].tolist()\n",
    "\n",
    "    indf[\"label\"]=None\n",
    "\n",
    "    def updateRow(example, label):\n",
    "        print(example, label)\n",
    "        #labs = setLabels([labels.index(y) for y in selectedLabels], len(labels))\n",
    "        #indf.loc[indf[textColumn] == example, shortLabels] = labs\n",
    "        indf.loc[indf[textColumn] == example, \"label\"] = label\n",
    "\n",
    "    def finalProcessing(annotations):\n",
    "        if out.exists():\n",
    "            prevdata = pd.read_csv(out)\n",
    "            outdata = pd.concat([prevdata, indf]).reset_index(drop=True)\n",
    "        else:\n",
    "            outdata = indf.copy()\n",
    "        outdata.to_csv(out, index=False)\n",
    "        \n",
    "    def displayFunction(filename):\n",
    "        print(filename)\n",
    "        display(Image(\"/Users/ritchie/Downloads/Smart Primer User Testing Location Photos/\" + filename))\n",
    "\n",
    "    annotated = annotate( \n",
    "        sentences, \n",
    "        options=labels, \n",
    "        buttons_in_a_row=3,\n",
    "        reset_buttons_after_click=True,\n",
    "        include_next=False,\n",
    "        example_process_fn=updateRow,\n",
    "        final_process_fn=finalProcessing,\n",
    "        display_fn=displayFunction\n",
    "    )     \n",
    "    return indf\n"
   ]
  },
  {
   "cell_type": "code",
   "execution_count": 85,
   "id": "f7a7316a",
   "metadata": {},
   "outputs": [
    {
     "name": "stdout",
     "output_type": "stream",
     "text": [
      "211 - 220 of 514\n"
     ]
    },
    {
     "data": {
      "application/vnd.jupyter.widget-view+json": {
       "model_id": "32e0125fa07b4f3f98db54483c9772ef",
       "version_major": 2,
       "version_minor": 0
      },
      "text/plain": [
       "HTML(value='0 of 10 Examples annotated, Current Position: 0 ')"
      ]
     },
     "metadata": {},
     "output_type": "display_data"
    },
    {
     "data": {
      "application/vnd.jupyter.widget-view+json": {
       "model_id": "dffdbc682f494d5993a3ce11c5b912f8",
       "version_major": 2,
       "version_minor": 0
      },
      "text/plain": [
       "VBox(children=(HBox(children=(Button(description='background', style=ButtonStyle()), Button(description='eucal…"
      ]
     },
     "metadata": {},
     "output_type": "display_data"
    },
    {
     "data": {
      "application/vnd.jupyter.widget-view+json": {
       "model_id": "1eca7b19bb14452188a25268ae74b79a",
       "version_major": 2,
       "version_minor": 0
      },
      "text/plain": [
       "Output()"
      ]
     },
     "metadata": {},
     "output_type": "display_data"
    },
    {
     "name": "stdout",
     "output_type": "stream",
     "text": [
      "PXL_20220608_192550248.jpg tree\n",
      "PXL_20220608_190506844.jpg tree\n",
      "PXL_20220608_193418858.jpg eucalyptus\n",
      "PXL_20220608_192146352.jpg eucalyptus\n",
      "PXL_20220608_193046079.jpg tree\n",
      "PXL_20220608_193557432.jpg eucalyptus\n",
      "PXL_20220608_193224308.jpg eucalyptus\n",
      "PXL_20220608_192811884.jpg tree\n",
      "PXL_20220608_191038692.jpg tree\n",
      "PXL_20220608_190704025.jpg tree\n",
      "Annotation done.\n"
     ]
    }
   ],
   "source": [
    "annotations = labelPortion('filenames.csv',\n",
    "                            labels=labels)"
   ]
  },
  {
   "cell_type": "code",
   "execution_count": 98,
   "id": "cde3a1ed",
   "metadata": {},
   "outputs": [
    {
     "data": {
      "text/html": [
       "<div>\n",
       "<style scoped>\n",
       "    .dataframe tbody tr th:only-of-type {\n",
       "        vertical-align: middle;\n",
       "    }\n",
       "\n",
       "    .dataframe tbody tr th {\n",
       "        vertical-align: top;\n",
       "    }\n",
       "\n",
       "    .dataframe thead th {\n",
       "        text-align: right;\n",
       "    }\n",
       "</style>\n",
       "<table border=\"1\" class=\"dataframe\">\n",
       "  <thead>\n",
       "    <tr style=\"text-align: right;\">\n",
       "      <th></th>\n",
       "      <th>Unnamed: 0</th>\n",
       "      <th>filename</th>\n",
       "      <th>label</th>\n",
       "    </tr>\n",
       "  </thead>\n",
       "  <tbody>\n",
       "    <tr>\n",
       "      <th>0</th>\n",
       "      <td>0</td>\n",
       "      <td>PXL_20220608_193212390.jpg</td>\n",
       "      <td>eucalyptus</td>\n",
       "    </tr>\n",
       "    <tr>\n",
       "      <th>1</th>\n",
       "      <td>1</td>\n",
       "      <td>PXL_20220608_191013698.jpg</td>\n",
       "      <td>eucalyptus</td>\n",
       "    </tr>\n",
       "    <tr>\n",
       "      <th>2</th>\n",
       "      <td>2</td>\n",
       "      <td>PXL_20220608_192248412.jpg</td>\n",
       "      <td>background</td>\n",
       "    </tr>\n",
       "    <tr>\n",
       "      <th>3</th>\n",
       "      <td>3</td>\n",
       "      <td>PXL_20220608_192133742.jpg</td>\n",
       "      <td>eucalyptus</td>\n",
       "    </tr>\n",
       "    <tr>\n",
       "      <th>4</th>\n",
       "      <td>4</td>\n",
       "      <td>PXL_20220608_191249506.jpg</td>\n",
       "      <td>background</td>\n",
       "    </tr>\n",
       "    <tr>\n",
       "      <th>...</th>\n",
       "      <td>...</td>\n",
       "      <td>...</td>\n",
       "      <td>...</td>\n",
       "    </tr>\n",
       "    <tr>\n",
       "      <th>215</th>\n",
       "      <td>215</td>\n",
       "      <td>PXL_20220608_193557432.jpg</td>\n",
       "      <td>eucalyptus</td>\n",
       "    </tr>\n",
       "    <tr>\n",
       "      <th>216</th>\n",
       "      <td>216</td>\n",
       "      <td>PXL_20220608_193224308.jpg</td>\n",
       "      <td>eucalyptus</td>\n",
       "    </tr>\n",
       "    <tr>\n",
       "      <th>217</th>\n",
       "      <td>217</td>\n",
       "      <td>PXL_20220608_192811884.jpg</td>\n",
       "      <td>tree</td>\n",
       "    </tr>\n",
       "    <tr>\n",
       "      <th>218</th>\n",
       "      <td>218</td>\n",
       "      <td>PXL_20220608_191038692.jpg</td>\n",
       "      <td>tree</td>\n",
       "    </tr>\n",
       "    <tr>\n",
       "      <th>219</th>\n",
       "      <td>219</td>\n",
       "      <td>PXL_20220608_190704025.jpg</td>\n",
       "      <td>tree</td>\n",
       "    </tr>\n",
       "  </tbody>\n",
       "</table>\n",
       "<p>220 rows × 3 columns</p>\n",
       "</div>"
      ],
      "text/plain": [
       "     Unnamed: 0                    filename       label\n",
       "0             0  PXL_20220608_193212390.jpg  eucalyptus\n",
       "1             1  PXL_20220608_191013698.jpg  eucalyptus\n",
       "2             2  PXL_20220608_192248412.jpg  background\n",
       "3             3  PXL_20220608_192133742.jpg  eucalyptus\n",
       "4             4  PXL_20220608_191249506.jpg  background\n",
       "..          ...                         ...         ...\n",
       "215         215  PXL_20220608_193557432.jpg  eucalyptus\n",
       "216         216  PXL_20220608_193224308.jpg  eucalyptus\n",
       "217         217  PXL_20220608_192811884.jpg        tree\n",
       "218         218  PXL_20220608_191038692.jpg        tree\n",
       "219         219  PXL_20220608_190704025.jpg        tree\n",
       "\n",
       "[220 rows x 3 columns]"
      ]
     },
     "execution_count": 98,
     "metadata": {},
     "output_type": "execute_result"
    }
   ],
   "source": [
    "# peek at current state of output\n",
    "pd.read_csv(\"output.csv\")"
   ]
  },
  {
   "cell_type": "code",
   "execution_count": 99,
   "id": "cf2c3347",
   "metadata": {},
   "outputs": [
    {
     "data": {
      "text/html": [
       "<div>\n",
       "<style scoped>\n",
       "    .dataframe tbody tr th:only-of-type {\n",
       "        vertical-align: middle;\n",
       "    }\n",
       "\n",
       "    .dataframe tbody tr th {\n",
       "        vertical-align: top;\n",
       "    }\n",
       "\n",
       "    .dataframe thead th {\n",
       "        text-align: right;\n",
       "    }\n",
       "</style>\n",
       "<table border=\"1\" class=\"dataframe\">\n",
       "  <thead>\n",
       "    <tr style=\"text-align: right;\">\n",
       "      <th></th>\n",
       "      <th>filename</th>\n",
       "      <th>1</th>\n",
       "    </tr>\n",
       "  </thead>\n",
       "  <tbody>\n",
       "    <tr>\n",
       "      <th>219</th>\n",
       "      <td>PXL_20220608_190704025.jpg</td>\n",
       "      <td>eucalyptus</td>\n",
       "    </tr>\n",
       "  </tbody>\n",
       "</table>\n",
       "</div>"
      ],
      "text/plain": [
       "                       filename           1\n",
       "219  PXL_20220608_190704025.jpg  eucalyptus"
      ]
     },
     "execution_count": 99,
     "metadata": {},
     "output_type": "execute_result"
    }
   ],
   "source": [
    "# peek at the classifier outputs by replacing the filename in this cell \n",
    "# to get an idea of the errors\n",
    "df = pd.read_csv(\"classifier_output.csv\",header=None).rename(columns={0:\"filename\"})\n",
    "df.loc[df.filename == \"PXL_20220608_190704025.jpg\"]"
   ]
  },
  {
   "cell_type": "code",
   "execution_count": null,
   "id": "db4e585c",
   "metadata": {},
   "outputs": [],
   "source": []
  }
 ],
 "metadata": {
  "kernelspec": {
   "display_name": "Python 3.9.12 ('tree-detector')",
   "language": "python",
   "name": "python3912jvsc74a57bd0b57ddd98d236ea685d181c0d26d8e52a655fc3078115c333b8d4c03fe825e1c4"
  },
  "language_info": {
   "codemirror_mode": {
    "name": "ipython",
    "version": 3
   },
   "file_extension": ".py",
   "mimetype": "text/x-python",
   "name": "python",
   "nbconvert_exporter": "python",
   "pygments_lexer": "ipython3",
   "version": "3.9.12"
  }
 },
 "nbformat": 4,
 "nbformat_minor": 5
}
